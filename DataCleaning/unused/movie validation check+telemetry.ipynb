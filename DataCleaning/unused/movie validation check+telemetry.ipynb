{
 "cells": [
  {
   "cell_type": "code",
   "execution_count": 1,
   "id": "80b45025",
   "metadata": {},
   "outputs": [],
   "source": [
    "import pandas as pd\n"
   ]
  },
  {
   "cell_type": "code",
   "execution_count": 2,
   "id": "e00b4daf",
   "metadata": {},
   "outputs": [],
   "source": [
    "rating=pd.read_csv(\"/Users/joonghochoi/Desktop/small_test/small_rating_from_raw_rating.csv\")\n",
    "rec=pd.read_csv(\"/Users/joonghochoi/Desktop/small_test/small_rec_from_raw_rec.csv\")"
   ]
  },
  {
   "cell_type": "code",
   "execution_count": 5,
   "id": "962a1a07",
   "metadata": {},
   "outputs": [
    {
     "name": "stdout",
     "output_type": "stream",
     "text": [
      "100\n"
     ]
    }
   ],
   "source": [
    "print(len(rating))\n",
    "length=len(rating)"
   ]
  },
  {
   "cell_type": "code",
   "execution_count": 28,
   "id": "9003cc7a",
   "metadata": {},
   "outputs": [],
   "source": [
    "# Set the number of rows you want to read from the end of the file\n",
    "n = 40\n",
    "\n",
    "# Use the 'skiprows' parameter to skip the first 'num_rows - n' rows\n",
    "# and the 'nrows' parameter to read the last 'n' rows.\n",
    "rating1=pd.read_csv(\"/Users/joonghochoi/Desktop/small_test/small_rating_from_raw_rating.csv\",nrows=50)\n",
    "rating2= pd.read_csv(\"/Users/joonghochoi/Desktop/small_test/small_rating_from_raw_rating.csv\", header=None,names=[\"time\", \"user id\",\"movie id\",\"rating\"],skiprows=50)"
   ]
  },
  {
   "cell_type": "code",
   "execution_count": 29,
   "id": "32f3c622",
   "metadata": {},
   "outputs": [
    {
     "name": "stdout",
     "output_type": "stream",
     "text": [
      "50\n"
     ]
    },
    {
     "data": {
      "text/html": [
       "<div>\n",
       "<style scoped>\n",
       "    .dataframe tbody tr th:only-of-type {\n",
       "        vertical-align: middle;\n",
       "    }\n",
       "\n",
       "    .dataframe tbody tr th {\n",
       "        vertical-align: top;\n",
       "    }\n",
       "\n",
       "    .dataframe thead th {\n",
       "        text-align: right;\n",
       "    }\n",
       "</style>\n",
       "<table border=\"1\" class=\"dataframe\">\n",
       "  <thead>\n",
       "    <tr style=\"text-align: right;\">\n",
       "      <th></th>\n",
       "      <th>time</th>\n",
       "      <th>user id</th>\n",
       "      <th>movie id</th>\n",
       "      <th>rating</th>\n",
       "    </tr>\n",
       "  </thead>\n",
       "  <tbody>\n",
       "    <tr>\n",
       "      <th>0</th>\n",
       "      <td>2023-03-18T20:07:56</td>\n",
       "      <td>601079</td>\n",
       "      <td>the+godfather+1972</td>\n",
       "      <td>5</td>\n",
       "    </tr>\n",
       "    <tr>\n",
       "      <th>1</th>\n",
       "      <td>2023-03-18T20:07:57</td>\n",
       "      <td>1963</td>\n",
       "      <td>lady+and+the+tramp+1955</td>\n",
       "      <td>3</td>\n",
       "    </tr>\n",
       "    <tr>\n",
       "      <th>2</th>\n",
       "      <td>2023-03-18T20:07:58</td>\n",
       "      <td>661458</td>\n",
       "      <td>saving+private+ryan+1998</td>\n",
       "      <td>5</td>\n",
       "    </tr>\n",
       "    <tr>\n",
       "      <th>3</th>\n",
       "      <td>2023-03-18T20:07:58</td>\n",
       "      <td>144807</td>\n",
       "      <td>goodfellas+1990</td>\n",
       "      <td>4</td>\n",
       "    </tr>\n",
       "    <tr>\n",
       "      <th>4</th>\n",
       "      <td>2023-03-18T20:07:59</td>\n",
       "      <td>171571</td>\n",
       "      <td>kit+kittredge+an+american+girl+2008</td>\n",
       "      <td>4</td>\n",
       "    </tr>\n",
       "  </tbody>\n",
       "</table>\n",
       "</div>"
      ],
      "text/plain": [
       "                  time  user id                             movie id  rating\n",
       "0  2023-03-18T20:07:56   601079                   the+godfather+1972       5\n",
       "1  2023-03-18T20:07:57     1963              lady+and+the+tramp+1955       3\n",
       "2  2023-03-18T20:07:58   661458             saving+private+ryan+1998       5\n",
       "3  2023-03-18T20:07:58   144807                      goodfellas+1990       4\n",
       "4  2023-03-18T20:07:59   171571  kit+kittredge+an+american+girl+2008       4"
      ]
     },
     "execution_count": 29,
     "metadata": {},
     "output_type": "execute_result"
    }
   ],
   "source": [
    "print(len(rating1))\n",
    "rating1.head()"
   ]
  },
  {
   "cell_type": "code",
   "execution_count": 30,
   "id": "ff34d49f",
   "metadata": {},
   "outputs": [
    {
     "data": {
      "text/plain": [
       "4.0"
      ]
     },
     "execution_count": 30,
     "metadata": {},
     "output_type": "execute_result"
    }
   ],
   "source": [
    "rating1['rating'].mean()"
   ]
  },
  {
   "cell_type": "code",
   "execution_count": 31,
   "id": "5986caa7",
   "metadata": {},
   "outputs": [
    {
     "name": "stdout",
     "output_type": "stream",
     "text": [
      "51\n"
     ]
    },
    {
     "data": {
      "text/html": [
       "<div>\n",
       "<style scoped>\n",
       "    .dataframe tbody tr th:only-of-type {\n",
       "        vertical-align: middle;\n",
       "    }\n",
       "\n",
       "    .dataframe tbody tr th {\n",
       "        vertical-align: top;\n",
       "    }\n",
       "\n",
       "    .dataframe thead th {\n",
       "        text-align: right;\n",
       "    }\n",
       "</style>\n",
       "<table border=\"1\" class=\"dataframe\">\n",
       "  <thead>\n",
       "    <tr style=\"text-align: right;\">\n",
       "      <th></th>\n",
       "      <th>time</th>\n",
       "      <th>user id</th>\n",
       "      <th>movie id</th>\n",
       "      <th>rating</th>\n",
       "    </tr>\n",
       "  </thead>\n",
       "  <tbody>\n",
       "    <tr>\n",
       "      <th>0</th>\n",
       "      <td>2023-03-18T20:47:32</td>\n",
       "      <td>790022</td>\n",
       "      <td>rings+2005</td>\n",
       "      <td>3</td>\n",
       "    </tr>\n",
       "    <tr>\n",
       "      <th>1</th>\n",
       "      <td>2023-03-18T20:47:32</td>\n",
       "      <td>412054</td>\n",
       "      <td>tarzan+1999</td>\n",
       "      <td>3</td>\n",
       "    </tr>\n",
       "    <tr>\n",
       "      <th>2</th>\n",
       "      <td>2023-03-18T20:47:32</td>\n",
       "      <td>283238</td>\n",
       "      <td>black+girl+1966</td>\n",
       "      <td>4</td>\n",
       "    </tr>\n",
       "    <tr>\n",
       "      <th>3</th>\n",
       "      <td>2023-03-18T20:47:33</td>\n",
       "      <td>656895</td>\n",
       "      <td>the+godfather+1972</td>\n",
       "      <td>5</td>\n",
       "    </tr>\n",
       "    <tr>\n",
       "      <th>4</th>\n",
       "      <td>2023-03-18T20:47:33</td>\n",
       "      <td>110581</td>\n",
       "      <td>the+green+mile+1999</td>\n",
       "      <td>4</td>\n",
       "    </tr>\n",
       "  </tbody>\n",
       "</table>\n",
       "</div>"
      ],
      "text/plain": [
       "                  time  user id             movie id  rating\n",
       "0  2023-03-18T20:47:32   790022           rings+2005       3\n",
       "1  2023-03-18T20:47:32   412054          tarzan+1999       3\n",
       "2  2023-03-18T20:47:32   283238      black+girl+1966       4\n",
       "3  2023-03-18T20:47:33   656895   the+godfather+1972       5\n",
       "4  2023-03-18T20:47:33   110581  the+green+mile+1999       4"
      ]
     },
     "execution_count": 31,
     "metadata": {},
     "output_type": "execute_result"
    }
   ],
   "source": [
    "print(len(rating2))\n",
    "rating2.head()"
   ]
  },
  {
   "cell_type": "code",
   "execution_count": 32,
   "id": "2f01b07d",
   "metadata": {},
   "outputs": [
    {
     "data": {
      "text/plain": [
       "4.03921568627451"
      ]
     },
     "execution_count": 32,
     "metadata": {},
     "output_type": "execute_result"
    }
   ],
   "source": [
    "rating2['rating'].mean()"
   ]
  },
  {
   "cell_type": "code",
   "execution_count": 35,
   "id": "b359efdd",
   "metadata": {},
   "outputs": [
    {
     "name": "stdout",
     "output_type": "stream",
     "text": [
      "time        2023-03-18T20:47:32\n",
      "user id                  790022\n",
      "movie id             rings+2005\n",
      "rating                        3\n",
      "Name: 0, dtype: object\n"
     ]
    }
   ],
   "source": [
    "rating1['time'] = pd.to_datetime(rating1['time'])\n",
    "\n",
    "# Calculate the time difference between each row and the first row\n",
    "time_diff = pd.to_datetime(rating2['time']) - rating1['time'][0]\n",
    "\n",
    "# Find the index of the row that is 12 hours after the first row\n",
    "index_12hrs = (time_diff >= pd.Timedelta(hours=5)).idxmax()\n",
    "\n",
    "# Retrieve the row that is 12 hours after the first row\n",
    "row_12hrs = rating2.iloc[index_12hrs]\n",
    "\n",
    "# Print the row\n",
    "print(row_12hrs)"
   ]
  },
  {
   "cell_type": "code",
   "execution_count": null,
   "id": "e6ed0964",
   "metadata": {},
   "outputs": [],
   "source": []
  },
  {
   "cell_type": "code",
   "execution_count": 40,
   "id": "078d981e",
   "metadata": {},
   "outputs": [
    {
     "name": "stdout",
     "output_type": "stream",
     "text": [
      "None\n"
     ]
    }
   ],
   "source": [
    "rating['time'] = pd.to_datetime(rating['time'])\n",
    "\n",
    "# Calculate the time difference between each row and the first row\n",
    "time_diff = rating['time'] - rating['time'][0]\n",
    "\n",
    "# Find the index of the row that is 2 hours after the first row\n",
    "index_2hrs = (time_diff >= pd.Timedelta(hours=2)).idxmax()\n",
    "if index_2hrs!=0:\n",
    "# Retrieve the row that is 2 hours after the first row\n",
    "    row_2hrs = rating.iloc[index_2hrs]\n",
    "\n",
    "    # Print the row\n",
    "    print(rating['time'][0])\n",
    "    print(row_2hrs)\n",
    "else:\n",
    "    print(\"None\")"
   ]
  },
  {
   "cell_type": "code",
   "execution_count": 39,
   "id": "785f3206",
   "metadata": {},
   "outputs": [
    {
     "name": "stdout",
     "output_type": "stream",
     "text": [
      "0    0 days 00:00:00\n",
      "1    0 days 00:00:01\n",
      "2    0 days 00:00:02\n",
      "3    0 days 00:00:02\n",
      "4    0 days 00:00:03\n",
      "           ...      \n",
      "95   0 days 00:00:15\n",
      "96   0 days 00:00:15\n",
      "97   0 days 00:00:15\n",
      "98   0 days 00:00:16\n",
      "99   0 days 00:00:16\n",
      "Name: time, Length: 100, dtype: timedelta64[ns]\n",
      "0\n"
     ]
    }
   ],
   "source": [
    "print(time_diff)\n",
    "print(index_2hrs)"
   ]
  },
  {
   "cell_type": "code",
   "execution_count": null,
   "id": "e7deea81",
   "metadata": {},
   "outputs": [],
   "source": []
  },
  {
   "cell_type": "code",
   "execution_count": 3,
   "id": "4236bb44",
   "metadata": {},
   "outputs": [
    {
     "data": {
      "text/html": [
       "<div>\n",
       "<style scoped>\n",
       "    .dataframe tbody tr th:only-of-type {\n",
       "        vertical-align: middle;\n",
       "    }\n",
       "\n",
       "    .dataframe tbody tr th {\n",
       "        vertical-align: top;\n",
       "    }\n",
       "\n",
       "    .dataframe thead th {\n",
       "        text-align: right;\n",
       "    }\n",
       "</style>\n",
       "<table border=\"1\" class=\"dataframe\">\n",
       "  <thead>\n",
       "    <tr style=\"text-align: right;\">\n",
       "      <th></th>\n",
       "      <th>time</th>\n",
       "      <th>user id</th>\n",
       "      <th>movie id</th>\n",
       "      <th>rating</th>\n",
       "    </tr>\n",
       "  </thead>\n",
       "  <tbody>\n",
       "    <tr>\n",
       "      <th>0</th>\n",
       "      <td>2023-03-18T20:07:56</td>\n",
       "      <td>601079</td>\n",
       "      <td>the+godfather+1972</td>\n",
       "      <td>5</td>\n",
       "    </tr>\n",
       "    <tr>\n",
       "      <th>1</th>\n",
       "      <td>2023-03-18T20:07:57</td>\n",
       "      <td>1963</td>\n",
       "      <td>lady+and+the+tramp+1955</td>\n",
       "      <td>3</td>\n",
       "    </tr>\n",
       "    <tr>\n",
       "      <th>2</th>\n",
       "      <td>2023-03-18T20:07:58</td>\n",
       "      <td>661458</td>\n",
       "      <td>saving+private+ryan+1998</td>\n",
       "      <td>5</td>\n",
       "    </tr>\n",
       "    <tr>\n",
       "      <th>3</th>\n",
       "      <td>2023-03-18T20:07:58</td>\n",
       "      <td>144807</td>\n",
       "      <td>goodfellas+1990</td>\n",
       "      <td>4</td>\n",
       "    </tr>\n",
       "    <tr>\n",
       "      <th>4</th>\n",
       "      <td>2023-03-18T20:07:59</td>\n",
       "      <td>171571</td>\n",
       "      <td>kit+kittredge+an+american+girl+2008</td>\n",
       "      <td>4</td>\n",
       "    </tr>\n",
       "  </tbody>\n",
       "</table>\n",
       "</div>"
      ],
      "text/plain": [
       "                  time  user id                             movie id  rating\n",
       "0  2023-03-18T20:07:56   601079                   the+godfather+1972       5\n",
       "1  2023-03-18T20:07:57     1963              lady+and+the+tramp+1955       3\n",
       "2  2023-03-18T20:07:58   661458             saving+private+ryan+1998       5\n",
       "3  2023-03-18T20:07:58   144807                      goodfellas+1990       4\n",
       "4  2023-03-18T20:07:59   171571  kit+kittredge+an+american+girl+2008       4"
      ]
     },
     "execution_count": 3,
     "metadata": {},
     "output_type": "execute_result"
    }
   ],
   "source": [
    "rating.head()"
   ]
  },
  {
   "cell_type": "code",
   "execution_count": 4,
   "id": "cfe1d61b",
   "metadata": {},
   "outputs": [
    {
     "data": {
      "text/html": [
       "<div>\n",
       "<style scoped>\n",
       "    .dataframe tbody tr th:only-of-type {\n",
       "        vertical-align: middle;\n",
       "    }\n",
       "\n",
       "    .dataframe tbody tr th {\n",
       "        vertical-align: top;\n",
       "    }\n",
       "\n",
       "    .dataframe thead th {\n",
       "        text-align: right;\n",
       "    }\n",
       "</style>\n",
       "<table border=\"1\" class=\"dataframe\">\n",
       "  <thead>\n",
       "    <tr style=\"text-align: right;\">\n",
       "      <th></th>\n",
       "      <th>time</th>\n",
       "      <th>user id</th>\n",
       "      <th>ip</th>\n",
       "      <th>recs</th>\n",
       "      <th>ms</th>\n",
       "    </tr>\n",
       "  </thead>\n",
       "  <tbody>\n",
       "    <tr>\n",
       "      <th>0</th>\n",
       "      <td>2023-03-18T20:07:55.062136</td>\n",
       "      <td>69289</td>\n",
       "      <td>recommendation request 17645-team14.isri.cmu.e...</td>\n",
       "      <td>result: dances+with+wolves+1990, lawrence+of+...</td>\n",
       "      <td>18 ms</td>\n",
       "    </tr>\n",
       "    <tr>\n",
       "      <th>1</th>\n",
       "      <td>2023-03-18T20:07:55.089775</td>\n",
       "      <td>544688</td>\n",
       "      <td>recommendation request 17645-team14.isri.cmu.e...</td>\n",
       "      <td>result: titanic+1997, the+godfather+1972, pul...</td>\n",
       "      <td>40 ms</td>\n",
       "    </tr>\n",
       "    <tr>\n",
       "      <th>2</th>\n",
       "      <td>2023-03-18T20:07:55.152593</td>\n",
       "      <td>721730</td>\n",
       "      <td>recommendation request 17645-team14.isri.cmu.e...</td>\n",
       "      <td>result: the+green+mile+1999, les+miserables+1...</td>\n",
       "      <td>91 ms</td>\n",
       "    </tr>\n",
       "    <tr>\n",
       "      <th>3</th>\n",
       "      <td>2023-03-18T20:07:55.273761</td>\n",
       "      <td>83077</td>\n",
       "      <td>recommendation request 17645-team14.isri.cmu.e...</td>\n",
       "      <td>result: the+english+patient+1996, lawrence+of...</td>\n",
       "      <td>225 ms</td>\n",
       "    </tr>\n",
       "    <tr>\n",
       "      <th>4</th>\n",
       "      <td>2023-03-18T20:07:55.395064</td>\n",
       "      <td>120269</td>\n",
       "      <td>recommendation request 17645-team14.isri.cmu.e...</td>\n",
       "      <td>result: the+curious+case+of+benjamin+button+2...</td>\n",
       "      <td>322 ms</td>\n",
       "    </tr>\n",
       "  </tbody>\n",
       "</table>\n",
       "</div>"
      ],
      "text/plain": [
       "                         time  user id  \\\n",
       "0  2023-03-18T20:07:55.062136    69289   \n",
       "1  2023-03-18T20:07:55.089775   544688   \n",
       "2  2023-03-18T20:07:55.152593   721730   \n",
       "3  2023-03-18T20:07:55.273761    83077   \n",
       "4  2023-03-18T20:07:55.395064   120269   \n",
       "\n",
       "                                                  ip  \\\n",
       "0  recommendation request 17645-team14.isri.cmu.e...   \n",
       "1  recommendation request 17645-team14.isri.cmu.e...   \n",
       "2  recommendation request 17645-team14.isri.cmu.e...   \n",
       "3  recommendation request 17645-team14.isri.cmu.e...   \n",
       "4  recommendation request 17645-team14.isri.cmu.e...   \n",
       "\n",
       "                                                recs       ms  \n",
       "0   result: dances+with+wolves+1990, lawrence+of+...    18 ms  \n",
       "1   result: titanic+1997, the+godfather+1972, pul...    40 ms  \n",
       "2   result: the+green+mile+1999, les+miserables+1...    91 ms  \n",
       "3   result: the+english+patient+1996, lawrence+of...   225 ms  \n",
       "4   result: the+curious+case+of+benjamin+button+2...   322 ms  "
      ]
     },
     "execution_count": 4,
     "metadata": {},
     "output_type": "execute_result"
    }
   ],
   "source": [
    "rec.head()"
   ]
  },
  {
   "cell_type": "code",
   "execution_count": 17,
   "id": "15a87088",
   "metadata": {},
   "outputs": [],
   "source": [
    "s=set(zip(rating['user id'], rating['movie id']))\n"
   ]
  },
  {
   "cell_type": "code",
   "execution_count": 25,
   "id": "df9b7727",
   "metadata": {},
   "outputs": [
    {
     "name": "stdout",
     "output_type": "stream",
     "text": [
      "At least one combination is in the set\n"
     ]
    }
   ],
   "source": [
    "my_set = {'foo bar', 'string2', 'string3'}\n",
    "single_string = 'foo'\n",
    "multiple_strings = ['bar', 'baz', 'qux']\n",
    "\n",
    "# Check if any combinations of single_string and multiple_strings are in my_set\n",
    "if any(f'{single_string} {s}' in my_set for s in multiple_strings):\n",
    "    print('At least one combination is in the set')\n",
    "else:\n",
    "    print('No combination is in the set')"
   ]
  },
  {
   "cell_type": "code",
   "execution_count": 33,
   "id": "39510cf9",
   "metadata": {},
   "outputs": [
    {
     "name": "stdout",
     "output_type": "stream",
     "text": [
      "[' dances+with+wolves+1990', ' lawrence+of+arabia+1962', ' the+green+mile+1999', ' casino+1995', ' gandhi+1982', ' the+great+escape+1963', ' metropolis+1927', ' titanic+1997', ' harry+potter+and+the+philosophers+stone+2001', ' schindlers+list+1993'] /n\n",
      "[' titanic+1997', ' the+godfather+1972', ' pulp+fiction+1994', ' metropolis+1927', ' harry+potter+and+the+goblet+of+fire+2005', ' harry+potter+and+the+philosophers+stone+2001', ' schindlers+list+1993', ' gandhi+1982', ' the+curious+case+of+benjamin+button+2008', ' ben-hur+1959'] /n\n",
      "[' the+green+mile+1999', ' les+miserables+1995', ' harry+potter+and+the+goblet+of+fire+2005', ' the+great+escape+1963', ' gandhi+1982', ' lawrence+of+arabia+1962', ' pulp+fiction+1994', ' heat+1995', ' armageddon+1998', ' the+sound+of+music+1965'] /n\n",
      "[' the+english+patient+1996', ' lawrence+of+arabia+1962', ' the+godfather+part+ii+1974', ' the+sound+of+music+1965', ' the+departed+2006', ' apocalypse+now+1979', ' pulp+fiction+1994', ' the+lord+of+the+rings+the+return+of+the+king+2003', ' the+godfather+1972', ' heat+1995'] /n\n",
      "[' the+curious+case+of+benjamin+button+2008', ' les+miserables+1995', ' saving+private+ryan+1998', ' the+great+escape+1963', ' heat+1995', ' the+green+mile+1999', ' the+lord+of+the+rings+the+return+of+the+king+2003', ' the+sound+of+music+1965', ' the+english+patient+1996', ' apocalypse+now+1979'] /n\n",
      "[' braveheart+1995', ' harry+potter+and+the+goblet+of+fire+2005', ' the+godfather+part+ii+1974', ' the+godfather+1972', ' schindlers+list+1993', ' metropolis+1927', ' the+lord+of+the+rings+the+two+towers+2002', ' the+english+patient+1996', ' the+good_+the+bad+and+the+ugly+1966', ' the+sound+of+music+1965'] /n\n",
      "[' the+sound+of+music+1965', ' gandhi+1982', ' the+great+escape+1963', ' the+green+mile+1999', ' the+english+patient+1996', ' saving+private+ryan+1998', ' pulp+fiction+1994', ' harry+potter+and+the+philosophers+stone+2001', ' armageddon+1998', ' the+curious+case+of+benjamin+button+2008'] /n\n",
      "[' apocalypse+now+1979', ' the+lord+of+the+rings+the+two+towers+2002', ' the+great+escape+1963', ' the+good_+the+bad+and+the+ugly+1966', ' the+green+mile+1999', ' armageddon+1998', ' the+sound+of+music+1965', ' metropolis+1927', ' braveheart+1995', ' gandhi+1982'] /n\n",
      "[' the+godfather+1972', ' ben-hur+1959', ' apocalypse+now+1979', ' armageddon+1998', ' saving+private+ryan+1998', ' casino+1995', ' harry+potter+and+the+goblet+of+fire+2005', ' the+good_+the+bad+and+the+ugly+1966', ' heat+1995', ' the+english+patient+1996'] /n\n",
      "[' the+good_+the+bad+and+the+ugly+1966', ' the+lord+of+the+rings+the+two+towers+2002', ' metropolis+1927', ' saving+private+ryan+1998', ' schindlers+list+1993', ' apocalypse+now+1979', ' pulp+fiction+1994', ' dances+with+wolves+1990', ' the+lord+of+the+rings+the+return+of+the+king+2003', ' the+godfather+part+ii+1974'] /n\n",
      "[' gandhi+1982', ' titanic+1997', ' heat+1995', ' lawrence+of+arabia+1962', ' the+departed+2006', ' schindlers+list+1993', ' ben-hur+1959', ' les+miserables+1995', ' the+green+mile+1999', ' harry+potter+and+the+goblet+of+fire+2005'] /n\n",
      "[' saving+private+ryan+1998', ' the+godfather+1972', ' schindlers+list+1993', ' metropolis+1927', ' casino+1995', ' apocalypse+now+1979', ' the+godfather+part+ii+1974', ' the+good_+the+bad+and+the+ugly+1966', ' the+green+mile+1999', ' the+departed+2006'] /n\n",
      "[' the+green+mile+1999', ' the+lord+of+the+rings+the+fellowship+of+the+ring+2001', ' the+good_+the+bad+and+the+ugly+1966', ' ben-hur+1959', ' the+curious+case+of+benjamin+button+2008', ' harry+potter+and+the+philosophers+stone+2001', ' braveheart+1995', ' the+lord+of+the+rings+the+two+towers+2002', ' the+great+escape+1963', ' the+godfather+1972'] /n\n",
      "[' out+of+africa+1985', ' the+godfather+1972', ' the+godfather+part+ii+1974', ' the+curious+case+of+benjamin+button+2008', ' braveheart+1995', ' armageddon+1998', ' pulp+fiction+1994', ' the+english+patient+1996', ' heat+1995', ' the+great+escape+1963'] /n\n",
      "[' the+green+mile+1999', ' the+departed+2006', ' casino+1995', ' the+lord+of+the+rings+the+return+of+the+king+2003', ' dances+with+wolves+1990', ' the+sound+of+music+1965', ' ben-hur+1959', ' the+english+patient+1996', ' armageddon+1998', ' titanic+1997'] /n\n",
      "[' schindlers+list+1993', ' heat+1995', ' ben-hur+1959', ' casino+1995', ' the+english+patient+1996', ' metropolis+1927', ' out+of+africa+1985', ' the+good_+the+bad+and+the+ugly+1966', ' the+godfather+part+ii+1974', ' dances+with+wolves+1990'] /n\n",
      "[' les+miserables+1995', ' ben-hur+1959', ' saving+private+ryan+1998', ' the+departed+2006', ' gandhi+1982', ' armageddon+1998', ' out+of+africa+1985', ' the+good_+the+bad+and+the+ugly+1966', ' the+sound+of+music+1965', ' titanic+1997'] /n\n",
      "[' metropolis+1927', ' les+miserables+1995', ' apocalypse+now+1979', ' armageddon+1998', ' harry+potter+and+the+goblet+of+fire+2005', ' dances+with+wolves+1990', ' the+english+patient+1996', ' titanic+1997', ' pulp+fiction+1994', ' schindlers+list+1993'] /n\n",
      "[' braveheart+1995', ' out+of+africa+1985', ' apocalypse+now+1979', ' the+lord+of+the+rings+the+return+of+the+king+2003', ' dances+with+wolves+1990', ' the+good_+the+bad+and+the+ugly+1966', ' saving+private+ryan+1998', ' pulp+fiction+1994', ' the+great+escape+1963', ' ben-hur+1959'] /n\n",
      "[' armageddon+1998', ' braveheart+1995', ' metropolis+1927', ' the+lord+of+the+rings+the+two+towers+2002', ' pulp+fiction+1994', ' the+green+mile+1999', ' titanic+1997', ' the+curious+case+of+benjamin+button+2008', ' casino+1995', ' the+godfather+part+ii+1974'] /n\n",
      "[' out+of+africa+1985', ' harry+potter+and+the+goblet+of+fire+2005', ' the+lord+of+the+rings+the+fellowship+of+the+ring+2001', ' harry+potter+and+the+philosophers+stone+2001', ' the+godfather+part+ii+1974', ' the+sound+of+music+1965', ' the+lord+of+the+rings+the+return+of+the+king+2003', ' armageddon+1998', ' apocalypse+now+1979', ' the+lord+of+the+rings+the+two+towers+2002'] /n\n",
      "[' the+sound+of+music+1965', ' casino+1995', ' gandhi+1982', ' harry+potter+and+the+philosophers+stone+2001', ' schindlers+list+1993', ' harry+potter+and+the+goblet+of+fire+2005', ' the+english+patient+1996', ' the+godfather+part+ii+1974', ' the+great+escape+1963', ' ben-hur+1959'] /n\n",
      "[' the+good_+the+bad+and+the+ugly+1966', ' the+departed+2006', ' schindlers+list+1993', ' dances+with+wolves+1990', ' the+lord+of+the+rings+the+two+towers+2002', ' ben-hur+1959', ' apocalypse+now+1979', ' pulp+fiction+1994', ' harry+potter+and+the+philosophers+stone+2001', ' casino+1995'] /n\n",
      "[' armageddon+1998', ' harry+potter+and+the+philosophers+stone+2001', ' the+departed+2006', ' the+green+mile+1999', ' harry+potter+and+the+goblet+of+fire+2005', ' ben-hur+1959', ' the+godfather+1972', ' schindlers+list+1993', ' the+good_+the+bad+and+the+ugly+1966', ' apocalypse+now+1979'] /n\n",
      "[' the+godfather+1972', ' ben-hur+1959', ' harry+potter+and+the+goblet+of+fire+2005', ' metropolis+1927', ' the+lord+of+the+rings+the+return+of+the+king+2003', ' casino+1995', ' heat+1995', ' the+green+mile+1999', ' out+of+africa+1985', ' the+lord+of+the+rings+the+two+towers+2002'] /n\n",
      "[' the+good_+the+bad+and+the+ugly+1966', ' the+godfather+part+ii+1974', ' the+godfather+1972', ' pulp+fiction+1994', ' harry+potter+and+the+philosophers+stone+2001', ' the+curious+case+of+benjamin+button+2008', ' the+sound+of+music+1965', ' the+great+escape+1963', ' dances+with+wolves+1990', ' the+lord+of+the+rings+the+return+of+the+king+2003'] /n\n",
      "[' harry+potter+and+the+philosophers+stone+2001', ' metropolis+1927', ' the+godfather+1972', ' les+miserables+1995', ' the+english+patient+1996', ' the+godfather+part+ii+1974', ' the+departed+2006', ' pulp+fiction+1994', ' apocalypse+now+1979', ' harry+potter+and+the+goblet+of+fire+2005'] /n\n",
      "[' lawrence+of+arabia+1962', ' the+great+escape+1963', ' titanic+1997', ' apocalypse+now+1979', ' gandhi+1982', ' the+good_+the+bad+and+the+ugly+1966', ' saving+private+ryan+1998', ' the+green+mile+1999', ' ben-hur+1959', ' les+miserables+1995'] /n\n",
      "[' gandhi+1982', ' les+miserables+1995', ' the+lord+of+the+rings+the+return+of+the+king+2003', ' titanic+1997', ' harry+potter+and+the+philosophers+stone+2001', ' the+english+patient+1996', ' apocalypse+now+1979', ' braveheart+1995', ' armageddon+1998', ' ben-hur+1959'] /n\n",
      "[' the+sound+of+music+1965', ' the+great+escape+1963', ' harry+potter+and+the+philosophers+stone+2001', ' schindlers+list+1993', ' the+departed+2006', ' the+lord+of+the+rings+the+return+of+the+king+2003', ' the+curious+case+of+benjamin+button+2008', ' harry+potter+and+the+goblet+of+fire+2005', ' metropolis+1927', ' braveheart+1995'] /n\n",
      "[' the+lord+of+the+rings+the+fellowship+of+the+ring+2001', ' the+godfather+part+ii+1974', ' the+curious+case+of+benjamin+button+2008', ' lawrence+of+arabia+1962', ' armageddon+1998', ' apocalypse+now+1979', ' les+miserables+1995', ' harry+potter+and+the+goblet+of+fire+2005', ' the+lord+of+the+rings+the+two+towers+2002', ' ben-hur+1959'] /n\n",
      "[' schindlers+list+1993', ' saving+private+ryan+1998', ' the+great+escape+1963', ' dances+with+wolves+1990', ' gandhi+1982', ' the+good_+the+bad+and+the+ugly+1966', ' ben-hur+1959', ' the+lord+of+the+rings+the+fellowship+of+the+ring+2001', ' braveheart+1995', ' heat+1995'] /n\n",
      "[' the+lord+of+the+rings+the+fellowship+of+the+ring+2001', ' the+godfather+1972', ' the+lord+of+the+rings+the+two+towers+2002', ' harry+potter+and+the+philosophers+stone+2001', ' the+curious+case+of+benjamin+button+2008', ' schindlers+list+1993', ' the+good_+the+bad+and+the+ugly+1966', ' the+lord+of+the+rings+the+return+of+the+king+2003', ' the+godfather+part+ii+1974', ' dances+with+wolves+1990'] /n\n",
      "[' the+good_+the+bad+and+the+ugly+1966', ' out+of+africa+1985', ' the+green+mile+1999', ' the+lord+of+the+rings+the+fellowship+of+the+ring+2001', ' the+curious+case+of+benjamin+button+2008', ' metropolis+1927', ' lawrence+of+arabia+1962', ' the+lord+of+the+rings+the+two+towers+2002', ' the+lord+of+the+rings+the+return+of+the+king+2003', ' armageddon+1998'] /n\n",
      "[' harry+potter+and+the+philosophers+stone+2001', ' the+curious+case+of+benjamin+button+2008', ' harry+potter+and+the+goblet+of+fire+2005', ' the+lord+of+the+rings+the+fellowship+of+the+ring+2001', ' the+english+patient+1996', ' schindlers+list+1993', ' gandhi+1982', ' out+of+africa+1985', ' casino+1995', ' lawrence+of+arabia+1962'] /n\n",
      "[' out+of+africa+1985', ' the+sound+of+music+1965', ' the+departed+2006', ' braveheart+1995', ' harry+potter+and+the+philosophers+stone+2001', ' the+godfather+1972', ' the+green+mile+1999', ' the+lord+of+the+rings+the+fellowship+of+the+ring+2001', ' the+lord+of+the+rings+the+two+towers+2002', ' lawrence+of+arabia+1962'] /n\n",
      "[' harry+potter+and+the+philosophers+stone+2001', ' the+godfather+part+ii+1974', ' the+curious+case+of+benjamin+button+2008', ' the+lord+of+the+rings+the+two+towers+2002', ' saving+private+ryan+1998', ' metropolis+1927', ' the+lord+of+the+rings+the+fellowship+of+the+ring+2001', ' gandhi+1982', ' apocalypse+now+1979', ' braveheart+1995'] /n\n",
      "[' the+english+patient+1996', ' ben-hur+1959', ' the+godfather+part+ii+1974', ' the+godfather+1972', ' apocalypse+now+1979', ' the+great+escape+1963', ' lawrence+of+arabia+1962', ' titanic+1997', ' the+sound+of+music+1965', ' heat+1995'] /n\n",
      "[' saving+private+ryan+1998', ' dances+with+wolves+1990', ' braveheart+1995', ' the+good_+the+bad+and+the+ugly+1966', ' out+of+africa+1985', ' the+curious+case+of+benjamin+button+2008', ' metropolis+1927', ' the+english+patient+1996', ' gandhi+1982', ' lawrence+of+arabia+1962'] /n\n",
      "[' the+great+escape+1963', ' the+godfather+part+ii+1974', ' the+departed+2006', ' gandhi+1982', ' the+english+patient+1996', ' metropolis+1927', ' heat+1995', ' ben-hur+1959', ' apocalypse+now+1979', ' casino+1995'] /n\n",
      "[' harry+potter+and+the+goblet+of+fire+2005', ' gandhi+1982', ' lawrence+of+arabia+1962', ' saving+private+ryan+1998', ' metropolis+1927', ' the+godfather+1972', ' casino+1995', ' braveheart+1995', ' the+godfather+part+ii+1974', ' heat+1995'] /n\n",
      "[' titanic+1997', ' the+lord+of+the+rings+the+two+towers+2002', ' the+curious+case+of+benjamin+button+2008', ' dances+with+wolves+1990', ' harry+potter+and+the+goblet+of+fire+2005', ' metropolis+1927', ' the+lord+of+the+rings+the+fellowship+of+the+ring+2001', ' saving+private+ryan+1998', ' les+miserables+1995', ' the+godfather+1972'] /n\n",
      "[' the+lord+of+the+rings+the+two+towers+2002', ' harry+potter+and+the+philosophers+stone+2001', ' the+english+patient+1996', ' pulp+fiction+1994', ' saving+private+ryan+1998', ' lawrence+of+arabia+1962', ' heat+1995', ' braveheart+1995', ' the+green+mile+1999', ' ben-hur+1959'] /n\n",
      "[' schindlers+list+1993', ' saving+private+ryan+1998', ' the+lord+of+the+rings+the+two+towers+2002', ' the+departed+2006', ' the+lord+of+the+rings+the+return+of+the+king+2003', ' the+lord+of+the+rings+the+fellowship+of+the+ring+2001', ' harry+potter+and+the+philosophers+stone+2001', ' the+curious+case+of+benjamin+button+2008', ' out+of+africa+1985', ' pulp+fiction+1994'] /n\n",
      "[' the+godfather+1972', ' braveheart+1995', ' ben-hur+1959', ' heat+1995', ' the+lord+of+the+rings+the+return+of+the+king+2003', ' metropolis+1927', ' out+of+africa+1985', ' the+good_+the+bad+and+the+ugly+1966', ' gandhi+1982', ' the+departed+2006'] /n\n",
      "[' harry+potter+and+the+goblet+of+fire+2005', ' armageddon+1998', ' harry+potter+and+the+philosophers+stone+2001', ' apocalypse+now+1979', ' the+english+patient+1996', ' the+green+mile+1999', ' dances+with+wolves+1990', ' the+departed+2006', ' les+miserables+1995', ' the+lord+of+the+rings+the+fellowship+of+the+ring+2001'] /n\n",
      "[' braveheart+1995', ' the+english+patient+1996', ' metropolis+1927', ' the+godfather+part+ii+1974', ' saving+private+ryan+1998', ' les+miserables+1995', ' the+lord+of+the+rings+the+return+of+the+king+2003', ' ben-hur+1959', ' armageddon+1998', ' heat+1995'] /n\n",
      "[' the+great+escape+1963', ' the+sound+of+music+1965', ' harry+potter+and+the+goblet+of+fire+2005', ' braveheart+1995', ' the+english+patient+1996', ' the+green+mile+1999', ' gandhi+1982', ' pulp+fiction+1994', ' armageddon+1998', ' apocalypse+now+1979'] /n\n",
      "[' metropolis+1927', ' apocalypse+now+1979', ' ben-hur+1959', ' dances+with+wolves+1990', ' out+of+africa+1985', ' the+curious+case+of+benjamin+button+2008', ' the+good_+the+bad+and+the+ugly+1966', ' the+english+patient+1996', ' les+miserables+1995', ' casino+1995'] /n\n",
      "[' harry+potter+and+the+philosophers+stone+2001', ' the+godfather+part+ii+1974', ' the+great+escape+1963', ' the+good_+the+bad+and+the+ugly+1966', ' braveheart+1995', ' the+curious+case+of+benjamin+button+2008', ' schindlers+list+1993', ' les+miserables+1995', ' the+green+mile+1999', ' the+lord+of+the+rings+the+fellowship+of+the+ring+2001'] /n\n",
      "[' gandhi+1982', ' titanic+1997', ' braveheart+1995', ' heat+1995', ' the+lord+of+the+rings+the+fellowship+of+the+ring+2001', ' the+english+patient+1996', ' the+godfather+part+ii+1974', ' ben-hur+1959', ' saving+private+ryan+1998', ' pulp+fiction+1994'] /n\n",
      "[' the+english+patient+1996', ' out+of+africa+1985', ' harry+potter+and+the+goblet+of+fire+2005', ' dances+with+wolves+1990', ' schindlers+list+1993', ' the+godfather+part+ii+1974', ' the+lord+of+the+rings+the+two+towers+2002', ' pulp+fiction+1994', ' gandhi+1982', ' the+departed+2006'] /n\n",
      "[' the+green+mile+1999', ' lawrence+of+arabia+1962', ' armageddon+1998', ' titanic+1997', ' the+english+patient+1996', ' harry+potter+and+the+goblet+of+fire+2005', ' saving+private+ryan+1998', ' the+curious+case+of+benjamin+button+2008', ' les+miserables+1995', ' ben-hur+1959'] /n\n",
      "[' casino+1995', ' apocalypse+now+1979', ' pulp+fiction+1994', ' gandhi+1982', ' saving+private+ryan+1998', ' ben-hur+1959', ' the+curious+case+of+benjamin+button+2008', ' dances+with+wolves+1990', ' the+great+escape+1963', ' the+godfather+part+ii+1974'] /n\n",
      "[' the+great+escape+1963', ' harry+potter+and+the+goblet+of+fire+2005', ' the+godfather+part+ii+1974', ' the+green+mile+1999', ' the+good_+the+bad+and+the+ugly+1966', ' braveheart+1995', ' the+lord+of+the+rings+the+fellowship+of+the+ring+2001', ' ben-hur+1959', ' heat+1995', ' the+lord+of+the+rings+the+return+of+the+king+2003'] /n\n",
      "[' casino+1995', ' dances+with+wolves+1990', ' lawrence+of+arabia+1962', ' the+green+mile+1999', ' les+miserables+1995', ' the+english+patient+1996', ' titanic+1997', ' harry+potter+and+the+goblet+of+fire+2005', ' the+curious+case+of+benjamin+button+2008', ' heat+1995'] /n\n",
      "[' saving+private+ryan+1998', ' the+lord+of+the+rings+the+return+of+the+king+2003', ' the+good_+the+bad+and+the+ugly+1966', ' harry+potter+and+the+goblet+of+fire+2005', ' the+godfather+part+ii+1974', ' the+green+mile+1999', ' apocalypse+now+1979', ' the+departed+2006', ' schindlers+list+1993', ' gandhi+1982'] /n\n",
      "[' the+english+patient+1996', ' the+great+escape+1963', ' casino+1995', ' pulp+fiction+1994', ' the+sound+of+music+1965', ' the+departed+2006', ' the+good_+the+bad+and+the+ugly+1966', ' metropolis+1927', ' saving+private+ryan+1998', ' harry+potter+and+the+philosophers+stone+2001'] /n\n",
      "[' the+godfather+1972', ' casino+1995', ' dances+with+wolves+1990', ' heat+1995', ' pulp+fiction+1994', ' the+curious+case+of+benjamin+button+2008', ' metropolis+1927', ' out+of+africa+1985', ' the+english+patient+1996', ' harry+potter+and+the+goblet+of+fire+2005'] /n\n",
      "[' the+good_+the+bad+and+the+ugly+1966', ' the+green+mile+1999', ' the+godfather+1972', ' saving+private+ryan+1998', ' metropolis+1927', ' the+godfather+part+ii+1974', ' pulp+fiction+1994', ' out+of+africa+1985', ' apocalypse+now+1979', ' casino+1995'] /n\n",
      "[' the+sound+of+music+1965', ' harry+potter+and+the+goblet+of+fire+2005', ' the+good_+the+bad+and+the+ugly+1966', ' braveheart+1995', ' heat+1995', ' the+great+escape+1963', ' the+green+mile+1999', ' casino+1995', ' harry+potter+and+the+philosophers+stone+2001', ' the+lord+of+the+rings+the+return+of+the+king+2003'] /n\n",
      "[' gandhi+1982', ' schindlers+list+1993', ' braveheart+1995', ' heat+1995', ' out+of+africa+1985', ' the+lord+of+the+rings+the+fellowship+of+the+ring+2001', ' harry+potter+and+the+philosophers+stone+2001', ' the+good_+the+bad+and+the+ugly+1966', ' the+lord+of+the+rings+the+two+towers+2002', ' the+godfather+part+ii+1974'] /n\n",
      "[' the+green+mile+1999', ' dances+with+wolves+1990', ' metropolis+1927', ' les+miserables+1995', ' harry+potter+and+the+philosophers+stone+2001', ' the+godfather+1972', ' armageddon+1998', ' the+curious+case+of+benjamin+button+2008', ' the+english+patient+1996', ' ben-hur+1959'] /n\n",
      "[' the+sound+of+music+1965', ' the+good_+the+bad+and+the+ugly+1966', ' the+lord+of+the+rings+the+fellowship+of+the+ring+2001', ' the+english+patient+1996', ' the+great+escape+1963', ' the+godfather+part+ii+1974', ' the+lord+of+the+rings+the+two+towers+2002', ' schindlers+list+1993', ' the+lord+of+the+rings+the+return+of+the+king+2003', ' ben-hur+1959'] /n\n",
      "[' apocalypse+now+1979', ' dances+with+wolves+1990', ' the+sound+of+music+1965', ' the+lord+of+the+rings+the+return+of+the+king+2003', ' the+lord+of+the+rings+the+fellowship+of+the+ring+2001', ' harry+potter+and+the+philosophers+stone+2001', ' schindlers+list+1993', ' the+great+escape+1963', ' the+english+patient+1996', ' gandhi+1982'] /n\n",
      "[' the+green+mile+1999', ' the+lord+of+the+rings+the+return+of+the+king+2003', ' braveheart+1995', ' armageddon+1998', ' saving+private+ryan+1998', ' ben-hur+1959', ' lawrence+of+arabia+1962', ' titanic+1997', ' les+miserables+1995', ' apocalypse+now+1979'] /n\n",
      "[' the+sound+of+music+1965', ' ben-hur+1959', ' braveheart+1995', ' les+miserables+1995', ' out+of+africa+1985', ' the+lord+of+the+rings+the+two+towers+2002', ' the+curious+case+of+benjamin+button+2008', ' the+departed+2006', ' the+green+mile+1999', ' schindlers+list+1993'] /n\n",
      "[' gandhi+1982', ' schindlers+list+1993', ' pulp+fiction+1994', ' metropolis+1927', ' the+sound+of+music+1965', ' braveheart+1995', ' ben-hur+1959', ' the+english+patient+1996', ' the+great+escape+1963', ' out+of+africa+1985'] /n\n",
      "[' out+of+africa+1985', ' the+good_+the+bad+and+the+ugly+1966', ' the+lord+of+the+rings+the+two+towers+2002', ' the+great+escape+1963', ' the+curious+case+of+benjamin+button+2008', ' ben-hur+1959', ' les+miserables+1995', ' harry+potter+and+the+philosophers+stone+2001', ' casino+1995', ' the+departed+2006'] /n\n",
      "[' the+sound+of+music+1965', ' lawrence+of+arabia+1962', ' armageddon+1998', ' the+godfather+part+ii+1974', ' the+godfather+1972', ' metropolis+1927', ' the+departed+2006', ' the+english+patient+1996', ' casino+1995', ' pulp+fiction+1994'] /n\n",
      "[' saving+private+ryan+1998', ' the+departed+2006', ' titanic+1997', ' lawrence+of+arabia+1962', ' harry+potter+and+the+goblet+of+fire+2005', ' schindlers+list+1993', ' dances+with+wolves+1990', ' harry+potter+and+the+philosophers+stone+2001', ' metropolis+1927', ' out+of+africa+1985'] /n\n",
      "[' the+godfather+1972', ' the+curious+case+of+benjamin+button+2008', ' the+sound+of+music+1965', ' harry+potter+and+the+philosophers+stone+2001', ' armageddon+1998', ' the+good_+the+bad+and+the+ugly+1966', ' the+lord+of+the+rings+the+two+towers+2002', ' dances+with+wolves+1990', ' saving+private+ryan+1998', ' the+english+patient+1996'] /n\n",
      "[' ben-hur+1959', ' the+curious+case+of+benjamin+button+2008', ' heat+1995', ' titanic+1997', ' harry+potter+and+the+philosophers+stone+2001', ' dances+with+wolves+1990', ' pulp+fiction+1994', ' lawrence+of+arabia+1962', ' gandhi+1982', ' apocalypse+now+1979'] /n\n",
      "[' the+good_+the+bad+and+the+ugly+1966', ' casino+1995', ' braveheart+1995', ' the+great+escape+1963', ' ben-hur+1959', ' the+sound+of+music+1965', ' the+curious+case+of+benjamin+button+2008', ' armageddon+1998', ' the+lord+of+the+rings+the+two+towers+2002', ' out+of+africa+1985'] /n\n",
      "[' the+lord+of+the+rings+the+two+towers+2002', ' metropolis+1927', ' the+green+mile+1999', ' gandhi+1982', ' armageddon+1998', ' casino+1995', ' schindlers+list+1993', ' the+lord+of+the+rings+the+return+of+the+king+2003', ' ben-hur+1959', ' the+great+escape+1963'] /n\n",
      "[' armageddon+1998', ' apocalypse+now+1979', ' the+lord+of+the+rings+the+return+of+the+king+2003', ' les+miserables+1995', ' dances+with+wolves+1990', ' ben-hur+1959', ' the+lord+of+the+rings+the+fellowship+of+the+ring+2001', ' schindlers+list+1993', ' harry+potter+and+the+philosophers+stone+2001', ' gandhi+1982'] /n\n",
      "[' harry+potter+and+the+goblet+of+fire+2005', ' the+sound+of+music+1965', ' saving+private+ryan+1998', ' the+english+patient+1996', ' the+lord+of+the+rings+the+return+of+the+king+2003', ' gandhi+1982', ' the+godfather+1972', ' apocalypse+now+1979', ' harry+potter+and+the+philosophers+stone+2001', ' armageddon+1998'] /n\n",
      "[' armageddon+1998', ' apocalypse+now+1979', ' the+godfather+part+ii+1974', ' les+miserables+1995', ' dances+with+wolves+1990', ' the+good_+the+bad+and+the+ugly+1966', ' schindlers+list+1993', ' the+lord+of+the+rings+the+return+of+the+king+2003', ' gandhi+1982', ' titanic+1997'] /n\n",
      "[' schindlers+list+1993', ' the+godfather+part+ii+1974', ' ben-hur+1959', ' lawrence+of+arabia+1962', ' apocalypse+now+1979', ' armageddon+1998', ' the+good_+the+bad+and+the+ugly+1966', ' harry+potter+and+the+philosophers+stone+2001', ' the+sound+of+music+1965', ' the+lord+of+the+rings+the+return+of+the+king+2003'] /n\n",
      "[' harry+potter+and+the+philosophers+stone+2001', ' dances+with+wolves+1990', ' the+curious+case+of+benjamin+button+2008', ' the+lord+of+the+rings+the+two+towers+2002', ' the+sound+of+music+1965', ' pulp+fiction+1994', ' the+godfather+1972', ' the+lord+of+the+rings+the+fellowship+of+the+ring+2001', ' metropolis+1927', ' heat+1995'] /n\n",
      "[' saving+private+ryan+1998', ' braveheart+1995', ' the+great+escape+1963', ' harry+potter+and+the+goblet+of+fire+2005', ' gandhi+1982', ' heat+1995', ' ben-hur+1959', ' out+of+africa+1985', ' the+godfather+part+ii+1974', ' harry+potter+and+the+philosophers+stone+2001'] /n\n",
      "[' pulp+fiction+1994', ' braveheart+1995', ' apocalypse+now+1979', ' the+good_+the+bad+and+the+ugly+1966', ' the+green+mile+1999', ' the+lord+of+the+rings+the+fellowship+of+the+ring+2001', ' harry+potter+and+the+philosophers+stone+2001', ' harry+potter+and+the+goblet+of+fire+2005', ' armageddon+1998', ' the+sound+of+music+1965'] /n\n",
      "[' the+sound+of+music+1965', ' metropolis+1927', ' gandhi+1982', ' pulp+fiction+1994', ' the+great+escape+1963', ' the+green+mile+1999', ' the+english+patient+1996', ' the+departed+2006', ' dances+with+wolves+1990', ' the+godfather+part+ii+1974'] /n\n",
      "[' harry+potter+and+the+goblet+of+fire+2005', ' armageddon+1998', ' the+lord+of+the+rings+the+return+of+the+king+2003', ' the+curious+case+of+benjamin+button+2008', ' the+english+patient+1996', ' the+departed+2006', ' casino+1995', ' titanic+1997', ' ben-hur+1959', ' saving+private+ryan+1998'] /n\n",
      "[' the+green+mile+1999', ' the+curious+case+of+benjamin+button+2008', ' armageddon+1998', ' harry+potter+and+the+goblet+of+fire+2005', ' the+lord+of+the+rings+the+return+of+the+king+2003', ' out+of+africa+1985', ' les+miserables+1995', ' the+english+patient+1996', ' harry+potter+and+the+philosophers+stone+2001', ' casino+1995'] /n\n",
      "[' the+good_+the+bad+and+the+ugly+1966', ' the+godfather+part+ii+1974', ' ben-hur+1959', ' harry+potter+and+the+philosophers+stone+2001', ' the+lord+of+the+rings+the+two+towers+2002', ' the+english+patient+1996', ' titanic+1997', ' the+great+escape+1963', ' the+godfather+1972', ' les+miserables+1995'] /n\n",
      "[' braveheart+1995', ' dances+with+wolves+1990', ' schindlers+list+1993', ' the+english+patient+1996', ' gandhi+1982', ' the+godfather+part+ii+1974', ' the+departed+2006', ' the+sound+of+music+1965', ' the+lord+of+the+rings+the+fellowship+of+the+ring+2001', ' casino+1995'] /n\n",
      "[' titanic+1997', ' heat+1995', ' the+green+mile+1999', ' the+curious+case+of+benjamin+button+2008', ' les+miserables+1995', ' pulp+fiction+1994', ' harry+potter+and+the+philosophers+stone+2001', ' the+lord+of+the+rings+the+two+towers+2002', ' metropolis+1927', ' the+lord+of+the+rings+the+return+of+the+king+2003'] /n\n",
      "[' the+english+patient+1996', ' the+sound+of+music+1965', ' saving+private+ryan+1998', ' gandhi+1982', ' heat+1995', ' the+good_+the+bad+and+the+ugly+1966', ' the+departed+2006', ' the+curious+case+of+benjamin+button+2008', ' schindlers+list+1993', ' harry+potter+and+the+goblet+of+fire+2005'] /n\n",
      "[' schindlers+list+1993', ' harry+potter+and+the+philosophers+stone+2001', ' the+good_+the+bad+and+the+ugly+1966', ' dances+with+wolves+1990', ' saving+private+ryan+1998', ' out+of+africa+1985', ' lawrence+of+arabia+1962', ' pulp+fiction+1994', ' les+miserables+1995', ' heat+1995'] /n\n",
      "[' armageddon+1998', ' the+english+patient+1996', ' the+good_+the+bad+and+the+ugly+1966', ' apocalypse+now+1979', ' titanic+1997', ' the+green+mile+1999', ' ben-hur+1959', ' pulp+fiction+1994', ' braveheart+1995', ' the+godfather+1972'] /n\n",
      "[' the+godfather+part+ii+1974', ' the+good_+the+bad+and+the+ugly+1966', ' metropolis+1927', ' gandhi+1982', ' schindlers+list+1993', ' harry+potter+and+the+philosophers+stone+2001', ' the+lord+of+the+rings+the+two+towers+2002', ' harry+potter+and+the+goblet+of+fire+2005', ' out+of+africa+1985', ' titanic+1997'] /n\n",
      "[' schindlers+list+1993', ' the+english+patient+1996', ' pulp+fiction+1994', ' the+departed+2006', ' the+sound+of+music+1965', ' the+godfather+part+ii+1974', ' the+lord+of+the+rings+the+return+of+the+king+2003', ' les+miserables+1995', ' armageddon+1998', ' apocalypse+now+1979'] /n\n",
      "[' the+godfather+1972', ' the+green+mile+1999', ' the+departed+2006', ' the+english+patient+1996', ' the+lord+of+the+rings+the+fellowship+of+the+ring+2001', ' the+lord+of+the+rings+the+two+towers+2002', ' the+sound+of+music+1965', ' gandhi+1982', ' saving+private+ryan+1998', ' the+great+escape+1963'] /n\n",
      "[' the+curious+case+of+benjamin+button+2008', ' the+lord+of+the+rings+the+return+of+the+king+2003', ' the+lord+of+the+rings+the+fellowship+of+the+ring+2001', ' schindlers+list+1993', ' out+of+africa+1985', ' les+miserables+1995', ' gandhi+1982', ' lawrence+of+arabia+1962', ' ben-hur+1959', ' the+great+escape+1963'] /n\n",
      "[' the+english+patient+1996', ' metropolis+1927', ' the+sound+of+music+1965', ' ben-hur+1959', ' casino+1995', ' the+godfather+part+ii+1974', ' the+lord+of+the+rings+the+two+towers+2002', ' the+curious+case+of+benjamin+button+2008', ' titanic+1997', ' the+great+escape+1963'] /n\n",
      "[' lawrence+of+arabia+1962', ' harry+potter+and+the+philosophers+stone+2001', ' metropolis+1927', ' titanic+1997', ' gandhi+1982', ' the+godfather+1972', ' the+lord+of+the+rings+the+fellowship+of+the+ring+2001', ' ben-hur+1959', ' dances+with+wolves+1990', ' heat+1995'] /n\n",
      "[' saving+private+ryan+1998', ' dances+with+wolves+1990', ' harry+potter+and+the+goblet+of+fire+2005', ' the+great+escape+1963', ' the+good_+the+bad+and+the+ugly+1966', ' the+departed+2006', ' titanic+1997', ' the+lord+of+the+rings+the+return+of+the+king+2003', ' the+lord+of+the+rings+the+fellowship+of+the+ring+2001', ' the+godfather+part+ii+1974'] /n\n",
      "[' the+green+mile+1999', ' ben-hur+1959', ' heat+1995', ' the+good_+the+bad+and+the+ugly+1966', ' armageddon+1998', ' the+godfather+part+ii+1974', ' the+english+patient+1996', ' the+curious+case+of+benjamin+button+2008', ' the+great+escape+1963', ' the+sound+of+music+1965'] /n\n",
      "[' the+english+patient+1996', ' the+curious+case+of+benjamin+button+2008', ' the+good_+the+bad+and+the+ugly+1966', ' pulp+fiction+1994', ' the+great+escape+1963', ' the+godfather+part+ii+1974', ' the+green+mile+1999', ' saving+private+ryan+1998', ' the+sound+of+music+1965', ' the+lord+of+the+rings+the+two+towers+2002'] /n\n",
      "[]\n"
     ]
    }
   ],
   "source": [
    "length=len(rec)\n",
    "bad=[]\n",
    "for i in range(length):\n",
    "    item=rec.iloc[i,]\n",
    "    user_id=item['user id']\n",
    "    recs=item['recs']\n",
    "    recs=recs[8:]\n",
    "    items=recs.split(\",\")\n",
    "    #for suggestion in items:\n",
    "    if any((user_id,suggestion) in s for suggestion in items):\n",
    "        bad.append(i)\n",
    "    #print(items,\"/n\")\n",
    "print(bad)"
   ]
  },
  {
   "cell_type": "code",
   "execution_count": null,
   "id": "2ff8f06a",
   "metadata": {},
   "outputs": [],
   "source": []
  },
  {
   "cell_type": "code",
   "execution_count": 36,
   "id": "ae81e828",
   "metadata": {},
   "outputs": [
    {
     "name": "stdout",
     "output_type": "stream",
     "text": [
      "[1]\n",
      "{(193028, 'guilty+by+suspicion+1991'), (17594, 'the+rhythm+of+crime+1981'), (460501, 'hellraiser+deader+2005'), (666357, 'the+departed+2006'), (649126, 'pinocchio+1940'), (661458, 'saving+private+ryan+1998'), (144807, 'goodfellas+1990'), (476016, 'the+great+escape+1963'), (237275, 'the+godfather+1972'), (601079, 'the+godfather+1972'), (527519, 'pulp+fiction+1994'), (601596, 'wikirebels+the+documentary+2010'), (468645, 'the+lord+of+the+rings+the+two+towers+2002'), (463142, 'one+flew+over+the+cuckoos+nest+1975'), (126770, 'monty+python+and+the+holy+grail+1975'), (61644, 'the+lord+of+the+rings+the+return+of+the+king+2003'), (322322, 'the+godfather+1972'), (792759, 'the+great+escape+1963'), (421931, 'harry_+hes+here+to+help+2000'), (14805, 'harry+potter+and+the+goblet+of+fire+2005'), (475760, 'the+lord+of+the+rings+the+two+towers+2002'), (110581, 'the+green+mile+1999'), (762819, 'salvador+1986'), (656895, 'the+godfather+1972'), (604025, 'the+imitation+game+2014'), (346217, 'the+great+escape+1963'), (187719, 'the+pornographer+2001'), (532647, 'la+femme+nikita+1990'), (310497, 'schindlers+list+1993'), (359082, 'dances+with+wolves+1990'), (594002, 'my+neighbor+totoro+1988'), (218634, 'schindlers+list+1993'), (384764, 'kikis+delivery+service+1989'), (618794, 'the+godfather+1972'), (426691, 'the+lord+of+the+rings+the+fellowship+of+the+ring+2001'), (411716, 'the+queen+of+versailles+2012'), (522142, 'heat+1995'), (722929, 'the+day+the+earth+stood+still+1951'), (582648, 'metropolis+1927'), (434614, 'ben-hur+1959'), (1963, 'lady+and+the+tramp+1955'), (387977, 'casino+1995'), (599893, 'the+man+from+monterey+1933'), (336663, 'the+blue+angel+1930'), (156602, 'the+company+of+wolves+1984'), (412054, 'tarzan+1999'), (420233, 'highlander+endgame+2000'), (540346, 'the+lord+of+the+rings+the+two+towers+2002'), (174986, 'the+english+patient+1996'), (559318, 'harry+potter+and+the+chamber+of+secrets+2002'), (573371, 'a+year+ago+in+winter+2008'), (110307, 'harry+potter+and+the+goblet+of+fire+2005'), (187760, 'grave+encounters+2+2012'), (609440, 'casino+1995'), (544873, 'harry+potter+and+the+goblet+of+fire+2005'), (319491, 'the+lorax+2012'), (153229, 'les+miserables+1995'), (456082, 'the+family+tree+2011'), (597790, 'the+way+you+wanted+me+1944'), (376018, 'joyeux+nol+2005'), (457530, 'the+great+escape+1963'), (162425, 'the+innocent+1976'), (627840, 'violet++daisy+2011'), (768737, 'knute+rockne+all+american+1940'), (76098, 'heat+1995'), (563971, 'the+great+escape+1963'), (520656, 'the+lord+of+the+rings+the+return+of+the+king+2003'), (212650, 'rebecca+1940'), (142524, 'whiplash+2014'), (441866, 'the+enforcer+1995'), (614152, 'saving+private+ryan+1998'), (3282, 'apocalypse+now+1979'), (557133, 'the+green+mile+1999'), (638653, 'harry+potter+and+the+prisoner+of+azkaban+2004'), (348661, 'a+limousine+the+colour+of+midsummers+eve+1981'), (31949, 'lovers+like+us+1975'), (185857, 'lawrence+of+arabia+1962'), (280516, 'the+green+mile+1999'), (69791, 'apocalypse+now+1979'), (394914, 'the+godfather+1972'), (765520, 'schindlers+list+1993'), (229523, 'heat+1995'), (453016, 'the+godfather+1972'), (493535, 'the+lion+king+1+2004'), (591717, 'schindlers+list+1993'), (399565, 'naked+childhood+1968'), (790022, 'rings+2005'), (85508, 'the+east+2013'), (606988, 'galaxy+quest+1999'), (302237, 'metropolis+1927'), (594855, 'porco+rosso+1992'), (114989, 'the+lord+of+the+rings+the+two+towers+2002'), (283238, 'black+girl+1966'), (361914, 'the+godfather+1972'), (171571, 'kit+kittredge+an+american+girl+2008'), (434550, 'les+miserables+1995'), (777007, 'the+departed+2006'), (451949, 'the+godfather+1972'), (71497, 'apocalypse+now+1979'), (597376, 'the+godfather+part+ii+1974')}\n"
     ]
    }
   ],
   "source": [
    "user_id=193028\n",
    "items=['guilty+by+suspicion+1991',' dances+with+wolves+1990', ' lawrence+of+arabia+1962', ' the+green+mile+1999', ' casino+1995', ' gandhi+1982', ' the+great+escape+1963', ' metropolis+1927', ' titanic+1997', ' harry+potter+and+the+philosophers+stone+2001', ' schindlers+list+1993']\n",
    "bad=[]\n",
    "if any((user_id,suggestion) in s for suggestion in items):\n",
    "    bad.append(1)\n",
    "print(bad)\n",
    "print(s)"
   ]
  }
 ],
 "metadata": {
  "kernelspec": {
   "display_name": "sweAI",
   "language": "python",
   "name": "sweai"
  },
  "language_info": {
   "codemirror_mode": {
    "name": "ipython",
    "version": 3
   },
   "file_extension": ".py",
   "mimetype": "text/x-python",
   "name": "python",
   "nbconvert_exporter": "python",
   "pygments_lexer": "ipython3",
   "version": "3.9.6"
  }
 },
 "nbformat": 4,
 "nbformat_minor": 5
}
